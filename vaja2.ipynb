{
 "cells": [
  {
   "cell_type": "code",
   "execution_count": 1,
   "metadata": {},
   "outputs": [],
   "source": [
    "import cv2\n",
    "import numpy as np\n",
    "\n",
    "def spremeni_kontrast(slika, alfa, beta):\n",
    "    slika_kontrast = cv2.convertScaleAbs(slika, alpha=alfa, beta=beta)\n",
    "    \n",
    "    return slika_kontrast\n",
    "\n",
    "def my_roberts(slika):\n",
    "    roberts_x = np.array([[1, 0], [0, -1]], dtype=np.float32)\n",
    "    roberts_y = np.array([[0, 1], [-1, 0]], dtype=np.float32)\n",
    "    \n",
    "    gx = cv2.filter2D(slika, -1, roberts_x)\n",
    "    gy = cv2.filter2D(slika, -1, roberts_y)\n",
    "    \n",
    "    slika_robov = np.sqrt(gx**2 + gy**2).astype(np.uint8)\n",
    "\n",
    "    slika_robov = spremeni_kontrast(slika_robov, 20, 20)\n",
    "    \n",
    "    return slika_robov\n",
    "\n",
    "def my_prewitt(slika):\n",
    "    prewitt_x = np.array([[-1, 0, 1], [-1, 0, 1], [-1, 0, 1]], dtype=np.float32)\n",
    "    prewitt_y = np.array([[-1, -1, -1], [0, 0, 0], [1, 1, 1]], dtype=np.float32)\n",
    "    \n",
    "    gx = cv2.filter2D(slika, -1, prewitt_x)\n",
    "    gy = cv2.filter2D(slika, -1, prewitt_y)\n",
    "    \n",
    "    slika_robov = np.sqrt(gx**2 + gy**2).astype(np.uint8)\n",
    "\n",
    "    slika_robov = spremeni_kontrast(slika_robov, 20, 20)\n",
    "    \n",
    "    return slika_robov\n",
    "\n",
    "def my_sobel(slika):\n",
    "    sobel_x = np.array([[-1, 0, 1], [-2, 0, 2], [-1, 0, 1]], dtype=np.float32)\n",
    "    sobel_y = np.array([[-1, -2, -1], [0, 0, 0], [1, 2, 1]], dtype=np.float32)\n",
    "    \n",
    "    gx = cv2.filter2D(slika, -1, sobel_x)\n",
    "    gy = cv2.filter2D(slika, -1, sobel_y)\n",
    "    \n",
    "    slika_robov = np.sqrt(gx**2 + gy**2).astype(np.uint8)\n",
    "\n",
    "    slika_robov = spremeni_kontrast(slika_robov, 20, 20)\n",
    "    \n",
    "    return slika_robov\n",
    "\n",
    "def canny(slika, sp_prag, zg_prag):\n",
    "    slika_robov = cv2.Canny(slika, sp_prag, zg_prag)\n",
    "    \n",
    "    return slika_robov"
   ]
  },
  {
   "cell_type": "code",
   "execution_count": null,
   "metadata": {},
   "outputs": [],
   "source": [
    "img = cv2.imread('lenna.png')\n",
    "\n",
    "gray_img = cv2.cvtColor(img, cv2.COLOR_BGR2GRAY)\n",
    "\n",
    "roberts_img = my_roberts(gray_img)\n",
    "prewitt_img = my_prewitt(gray_img)\n",
    "sobel_img = my_sobel(gray_img)\n",
    "canny_img = canny(gray_img, 50, 150)\n",
    "\n",
    "cv2.imshow('Original Image', img)\n",
    "cv2.imshow('Roberts Edge Detection', roberts_img)\n",
    "cv2.imshow('Prewitt Edge Detection', prewitt_img)\n",
    "cv2.imshow('Sobel Edge Detection', sobel_img)\n",
    "cv2.imshow('Canny Edge Detection', canny_img)\n",
    "\n",
    "cv2.waitKey(0)\n",
    "cv2.destroyAllWindows()"
   ]
  }
 ],
 "metadata": {
  "kernelspec": {
   "display_name": "Python 3",
   "language": "python",
   "name": "python3"
  },
  "language_info": {
   "codemirror_mode": {
    "name": "ipython",
    "version": 3
   },
   "file_extension": ".py",
   "mimetype": "text/x-python",
   "name": "python",
   "nbconvert_exporter": "python",
   "pygments_lexer": "ipython3",
   "version": "3.9.9"
  },
  "orig_nbformat": 4,
  "vscode": {
   "interpreter": {
    "hash": "aee8b7b246df8f9039afb4144a1f6fd8d2ca17a180786b69acc140d282b71a49"
   }
  }
 },
 "nbformat": 4,
 "nbformat_minor": 2
}
