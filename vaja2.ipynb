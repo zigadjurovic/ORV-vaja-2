{
 "cells": [
  {
   "cell_type": "code",
   "execution_count": 1,
   "metadata": {},
   "outputs": [],
   "source": [
    "import cv2\n",
    "import numpy as np\n",
    "\n",
    "def spremeni_kontrast(slika, alfa, beta):\n",
    "    # change contrast of image using alpha and beta parameters\n",
    "    slika_kontrast = cv2.convertScaleAbs(slika, alpha=alfa, beta=beta)\n",
    "    \n",
    "    return slika_kontrast\n",
    "\n",
    "def my_roberts(slika):\n",
    "    # define Roberts kernels\n",
    "    roberts_x = np.array([[1, 0], [0, -1]], dtype=np.float32)\n",
    "    roberts_y = np.array([[0, 1], [-1, 0]], dtype=np.float32)\n",
    "    \n",
    "    # apply Roberts kernels to image\n",
    "    gx = cv2.filter2D(slika, -1, roberts_x)\n",
    "    gy = cv2.filter2D(slika, -1, roberts_y)\n",
    "    \n",
    "    # compute magnitude of gradients\n",
    "    slika_robov = np.sqrt(gx**2 + gy**2).astype(np.uint8)\n",
    "\n",
    "    # increase brightness of edges\n",
    "    slika_robov = spremeni_kontrast(slika_robov, 20, 20)\n",
    "    \n",
    "    return slika_robov\n",
    "\n",
    "def my_prewitt(slika):\n",
    "    # define Prewitt kernels\n",
    "    prewitt_x = np.array([[-1, 0, 1], [-1, 0, 1], [-1, 0, 1]], dtype=np.float32)\n",
    "    prewitt_y = np.array([[-1, -1, -1], [0, 0, 0], [1, 1, 1]], dtype=np.float32)\n",
    "    \n",
    "    # apply Prewitt kernels to image\n",
    "    gx = cv2.filter2D(slika, -1, prewitt_x)\n",
    "    gy = cv2.filter2D(slika, -1, prewitt_y)\n",
    "    \n",
    "    # compute magnitude of gradients\n",
    "    slika_robov = np.sqrt(gx**2 + gy**2).astype(np.uint8)\n",
    "\n",
    "    # increase brightness of edges\n",
    "    slika_robov = spremeni_kontrast(slika_robov, 20, 20)\n",
    "    \n",
    "    return slika_robov\n",
    "\n",
    "def my_sobel(slika):\n",
    "    # define Sobel kernels\n",
    "    sobel_x = np.array([[-1, 0, 1], [-2, 0, 2], [-1, 0, 1]], dtype=np.float32)\n",
    "    sobel_y = np.array([[-1, -2, -1], [0, 0, 0], [1, 2, 1]], dtype=np.float32)\n",
    "    \n",
    "    # apply Sobel kernels to image\n",
    "    gx = cv2.filter2D(slika, -1, sobel_x)\n",
    "    gy = cv2.filter2D(slika, -1, sobel_y)\n",
    "    \n",
    "    # compute magnitude of gradients\n",
    "    slika_robov = np.sqrt(gx**2 + gy**2).astype(np.uint8)\n",
    "\n",
    "    # increase brightness of edges\n",
    "    slika_robov = spremeni_kontrast(slika_robov, 20, 20)\n",
    "    \n",
    "    return slika_robov\n",
    "\n",
    "def canny(slika, sp_prag, zg_prag):\n",
    "    # apply Canny edge detection to image\n",
    "    slika_robov = cv2.Canny(slika, sp_prag, zg_prag)\n",
    "    \n",
    "    return slika_robov"
   ]
  },
  {
   "cell_type": "code",
   "execution_count": 1,
   "metadata": {},
   "outputs": [
    {
     "ename": "NameError",
     "evalue": "name 'cv2' is not defined",
     "output_type": "error",
     "traceback": [
      "\u001b[0;31m---------------------------------------------------------------------------\u001b[0m",
      "\u001b[0;31mNameError\u001b[0m                                 Traceback (most recent call last)",
      "Cell \u001b[0;32mIn[1], line 2\u001b[0m\n\u001b[1;32m      1\u001b[0m \u001b[39m# Read image\u001b[39;00m\n\u001b[0;32m----> 2\u001b[0m img \u001b[39m=\u001b[39m cv2\u001b[39m.\u001b[39mimread(\u001b[39m'\u001b[39m\u001b[39mlenna.png\u001b[39m\u001b[39m'\u001b[39m)\n\u001b[1;32m      4\u001b[0m \u001b[39m# Convert to grayscale\u001b[39;00m\n\u001b[1;32m      5\u001b[0m gray_img \u001b[39m=\u001b[39m cv2\u001b[39m.\u001b[39mcvtColor(img, cv2\u001b[39m.\u001b[39mCOLOR_BGR2GRAY)\n",
      "\u001b[0;31mNameError\u001b[0m: name 'cv2' is not defined"
     ]
    }
   ],
   "source": [
    "# Read image\n",
    "img = cv2.imread('lenna.png')\n",
    "\n",
    "# Convert to grayscale\n",
    "gray_img = cv2.cvtColor(img, cv2.COLOR_BGR2GRAY)\n",
    "\n",
    "# Call edge detection functions on grayscale image\n",
    "roberts_img = my_roberts(gray_img)\n",
    "prewitt_img = my_prewitt(gray_img)\n",
    "sobel_img = my_sobel(gray_img)\n",
    "canny_img = canny(gray_img, 50, 150)\n",
    "\n",
    "# Change contrast\n",
    "img_contrast = spremeni_kontrast(gray_img, 1.5, 50)\n",
    "\n",
    "# Display images\n",
    "cv2.imshow('Original Image', img)\n",
    "cv2.imshow('Roberts Edge Detection', roberts_img)\n",
    "cv2.imshow('Prewitt Edge Detection', prewitt_img)\n",
    "cv2.imshow('Sobel Edge Detection', sobel_img)\n",
    "cv2.imshow('Canny Edge Detection', canny_img)\n",
    "cv2.imshow('Contrast Image', img_contrast)\n",
    "\n",
    "#---------------------------------------\n",
    "# apply the Sobel edge detection function\n",
    "img_edges = cv2.Sobel(gray_img, cv2.CV_8U, 1, 0, ksize=3)\n",
    "# convert the edges to a color image\n",
    "img_edges_color = cv2.cvtColor(img_edges, cv2.COLOR_GRAY2BGR)\n",
    "# add the edges to the original color image\n",
    "img_result = cv2.addWeighted(img, 0.5, img_edges_color, 0.5, 0)\n",
    "\n",
    "cv2.imshow(\"Edges in Original color image\", img_result)\n",
    "\n",
    "cv2.waitKey(0)\n",
    "cv2.destroyAllWindows()"
   ]
  }
 ],
 "metadata": {
  "kernelspec": {
   "display_name": "Python 3",
   "language": "python",
   "name": "python3"
  },
  "language_info": {
   "codemirror_mode": {
    "name": "ipython",
    "version": 3
   },
   "file_extension": ".py",
   "mimetype": "text/x-python",
   "name": "python",
   "nbconvert_exporter": "python",
   "pygments_lexer": "ipython3",
   "version": "3.9.9"
  },
  "orig_nbformat": 4,
  "vscode": {
   "interpreter": {
    "hash": "aee8b7b246df8f9039afb4144a1f6fd8d2ca17a180786b69acc140d282b71a49"
   }
  }
 },
 "nbformat": 4,
 "nbformat_minor": 2
}
