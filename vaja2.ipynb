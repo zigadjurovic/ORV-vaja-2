{
 "cells": [
  {
   "cell_type": "code",
   "execution_count": 1,
   "metadata": {},
   "outputs": [],
   "source": [
    "import cv2\n",
    "import numpy as np\n",
    "\n",
    "def my_roberts(slika):\n",
    "    roberts_x = np.array([[1, 0], [0, -1]], dtype=np.float32)\n",
    "    roberts_y = np.array([[0, 1], [-1, 0]], dtype=np.float32)\n",
    "    \n",
    "    gx = cv2.filter2D(slika, -1, roberts_x)\n",
    "    gy = cv2.filter2D(slika, -1, roberts_y)\n",
    "    \n",
    "    slika_robov = np.sqrt(gx**2 + gy**2).astype(np.uint8)\n",
    "    \n",
    "    return slika_robov"
   ]
  }
 ],
 "metadata": {
  "kernelspec": {
   "display_name": "Python 3",
   "language": "python",
   "name": "python3"
  },
  "language_info": {
   "codemirror_mode": {
    "name": "ipython",
    "version": 3
   },
   "file_extension": ".py",
   "mimetype": "text/x-python",
   "name": "python",
   "nbconvert_exporter": "python",
   "pygments_lexer": "ipython3",
   "version": "3.9.9"
  },
  "orig_nbformat": 4,
  "vscode": {
   "interpreter": {
    "hash": "aee8b7b246df8f9039afb4144a1f6fd8d2ca17a180786b69acc140d282b71a49"
   }
  }
 },
 "nbformat": 4,
 "nbformat_minor": 2
}
